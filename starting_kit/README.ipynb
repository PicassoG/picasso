{
 "cells": [
  {
   "cell_type": "markdown",
   "metadata": {},
   "source": [
    "<div style=\"background:#FFFFAA\">\n",
    "<img src=\"logo.jpg\", width=150, ALIGN=\"left\", border=20>\n",
    "<center>\n",
    "<h1>Sample Starting Kit </h1>\n",
    " <br>This code was tested with <br>\n",
    "Python 3.6.6 |Anaconda custom (64-bit)| (default, Jun 28 2018, 11:07:29) (https://anaconda.org/)<br>\n",
    "<i> Adapted for Chalab by Isabelle Guyon from original code of Balázs Kégl</i> <br>\n",
    "<a href=\"http://www.datascience-paris-saclay.fr\">Paris Saclay Center for Data Science (CDS)</a>\n",
    "</center>\n",
    "<br>\n",
    "<br>\n",
    "<br>\n",
    "<p>\n",
    "ALL INFORMATION, SOFTWARE, DOCUMENTATION, AND DATA ARE PROVIDED \"AS-IS\". The CDS, CHALEARN, AND/OR OTHER ORGANIZERS OR CODE AUTHORS DISCLAIM ANY EXPRESSED OR IMPLIED WARRANTIES, INCLUDING, BUT NOT LIMITED TO, THE IMPLIED WARRANTIES OF MERCHANTABILITY AND FITNESS FOR ANY PARTICULAR PURPOSE, AND THE WARRANTY OF NON-INFRIGEMENT OF ANY THIRD PARTY'S INTELLECTUAL PROPERTY RIGHTS. IN NO EVENT SHALL AUTHORS AND ORGANIZERS BE LIABLE FOR ANY SPECIAL, \n",
    "INDIRECT OR CONSEQUENTIAL DAMAGES OR ANY DAMAGES WHATSOEVER ARISING OUT OF OR IN CONNECTION WITH THE USE OR PERFORMANCE OF SOFTWARE, DOCUMENTS, MATERIALS, PUBLICATIONS, OR INFORMATION MADE AVAILABLE FOR THE CHALLENGE. \n",
    "</div>"
   ]
  },
  {
   "cell_type": "markdown",
   "metadata": {},
   "source": [
    "<div style=\"background:#FFFFAA\">\n",
    "    <h2>Introduction </h2>\n",
    "    <p>\n",
    "In an era where computer graphics techniques for image generation are reaching stunning levels of quality, it becomes more and more challenging to detect fake from true, authentic images. However, this raises a lot of legal issues, mainly dealing with forgery. This project focuses mainly on the efficiency of Generative Adversarial Network (GAN) algorithms for producing art forgery and we will try to beat the state-of-the-art models that detect it. In fact, the Fine Arts Expert Institute in Geneva estimates that as much as 50 percent of artworks currently in circulation may be forgeries. Although the standard approach for image classification which is deep neural networks and especially Convolutional Neural Networks (CNNs) works very well nowadays, GAN performs strongly on generating fake images. By focusing on the art forgery aspect, we will try to bring a more specific perspective on the issue of image forgery.\n",
    "\n",
    "</div>"
   ]
  },
  {
   "cell_type": "markdown",
   "metadata": {},
   "source": [
    "### Requirements\n",
    "Our code uses multiple libraries, so the next cell will install python's required dependencies. In case you don't want to, or are running in the competition's docker, you can comment it."
   ]
  },
  {
   "cell_type": "code",
   "execution_count": 1,
   "metadata": {},
   "outputs": [],
   "source": [
    "#!pip install --user -r requirements.txt"
   ]
  },
  {
   "cell_type": "code",
   "execution_count": 2,
   "metadata": {},
   "outputs": [
    {
     "name": "stdout",
     "output_type": "stream",
     "text": [
      "The autoreload extension is already loaded. To reload it, use:\n",
      "  %reload_ext autoreload\n"
     ]
    }
   ],
   "source": [
    "%reload_ext autoreload\n",
    "model_dir = 'sample_code_submission/'                        # Change the model to a better one once you have one!\n",
    "result_dir = 'sample_result_submission/' \n",
    "problem_dir = 'ingestion_program/'  \n",
    "score_dir = 'scoring_program/'\n",
    "from sys import path; path.append(model_dir); path.append(problem_dir); path.append(score_dir); \n",
    "%matplotlib inline\n",
    "%load_ext autoreload\n",
    "%autoreload 2\n",
    "import seaborn as sns; sns.set()\n",
    "import warnings\n",
    "import os\n",
    "warnings.simplefilter(action='ignore', category=FutureWarning)"
   ]
  },
  {
   "cell_type": "markdown",
   "metadata": {},
   "source": [
    "<div style=\"background:#FFFFAA\">\n",
    "    <h1> Step 1: Exploratory data analysis </h1>\n",
    "<p>\n",
    "We provide sample_data with the starting kit, but to prepare your submission, you must fetch the public_data from the challenge website and point to it.\n",
    "    <br>\n",
    "    <span style=\"color:red\"> Just change the data name in the block below. In the rest of the section, replace the sample plots by anything you want. </span>\n",
    "</div>"
   ]
  },
  {
   "cell_type": "code",
   "execution_count": 3,
   "metadata": {},
   "outputs": [
    {
     "name": "stdout",
     "output_type": "stream",
     "text": [
      "perso_feat.name   perso_public.info  perso_train.data\t   perso_valid.data\r\n",
      "perso_label.name  perso_test.data    perso_train.solution\r\n"
     ]
    }
   ],
   "source": [
    "data_dir = '../public_data'         \n",
    "data_name = 'perso'\n",
    "!ls $data_dir"
   ]
  },
  {
   "cell_type": "code",
   "execution_count": 4,
   "metadata": {
    "scrolled": true
   },
   "outputs": [
    {
     "name": "stdout",
     "output_type": "stream",
     "text": [
      "Reading ../public_data/perso_train from AutoML format\n",
      "Number of examples = 65856\n",
      "Number of features = 200\n",
      "   Class\n",
      "0  False\n",
      "1   True\n",
      "Number of classes = 2\n"
     ]
    }
   ],
   "source": [
    "from data_io import read_as_df\n",
    "data = read_as_df(data_dir  + '/' + data_name)          # The perso_data is loaded as a Pandas Data Frame"
   ]
  },
  {
   "cell_type": "code",
   "execution_count": 5,
   "metadata": {
    "scrolled": true
   },
   "outputs": [
    {
     "data": {
      "text/html": [
       "<div>\n",
       "<style scoped>\n",
       "    .dataframe tbody tr th:only-of-type {\n",
       "        vertical-align: middle;\n",
       "    }\n",
       "\n",
       "    .dataframe tbody tr th {\n",
       "        vertical-align: top;\n",
       "    }\n",
       "\n",
       "    .dataframe thead th {\n",
       "        text-align: right;\n",
       "    }\n",
       "</style>\n",
       "<table border=\"1\" class=\"dataframe\">\n",
       "  <thead>\n",
       "    <tr style=\"text-align: right;\">\n",
       "      <th></th>\n",
       "      <th>feature0</th>\n",
       "      <th>feature1</th>\n",
       "      <th>feature2</th>\n",
       "      <th>feature3</th>\n",
       "      <th>feature4</th>\n",
       "      <th>feature5</th>\n",
       "      <th>feature6</th>\n",
       "      <th>feature7</th>\n",
       "      <th>feature8</th>\n",
       "      <th>feature9</th>\n",
       "      <th>...</th>\n",
       "      <th>feature191</th>\n",
       "      <th>feature192</th>\n",
       "      <th>feature193</th>\n",
       "      <th>feature194</th>\n",
       "      <th>feature195</th>\n",
       "      <th>feature196</th>\n",
       "      <th>feature197</th>\n",
       "      <th>feature198</th>\n",
       "      <th>feature199</th>\n",
       "      <th>target</th>\n",
       "    </tr>\n",
       "  </thead>\n",
       "  <tbody>\n",
       "    <tr>\n",
       "      <th>0</th>\n",
       "      <td>-720.579708</td>\n",
       "      <td>-330.571966</td>\n",
       "      <td>-2188.381016</td>\n",
       "      <td>1636.259793</td>\n",
       "      <td>450.914411</td>\n",
       "      <td>2896.124291</td>\n",
       "      <td>990.411094</td>\n",
       "      <td>-221.979955</td>\n",
       "      <td>735.522150</td>\n",
       "      <td>658.305425</td>\n",
       "      <td>...</td>\n",
       "      <td>48.580091</td>\n",
       "      <td>72.751124</td>\n",
       "      <td>140.823452</td>\n",
       "      <td>233.252833</td>\n",
       "      <td>-125.343139</td>\n",
       "      <td>-11.203929</td>\n",
       "      <td>-298.022503</td>\n",
       "      <td>268.679125</td>\n",
       "      <td>-107.863398</td>\n",
       "      <td>False</td>\n",
       "    </tr>\n",
       "    <tr>\n",
       "      <th>1</th>\n",
       "      <td>-5322.933980</td>\n",
       "      <td>-2089.062676</td>\n",
       "      <td>-380.988992</td>\n",
       "      <td>1346.675402</td>\n",
       "      <td>-175.516347</td>\n",
       "      <td>-187.304026</td>\n",
       "      <td>-516.713746</td>\n",
       "      <td>299.742812</td>\n",
       "      <td>737.662192</td>\n",
       "      <td>367.725877</td>\n",
       "      <td>...</td>\n",
       "      <td>-11.319036</td>\n",
       "      <td>51.214428</td>\n",
       "      <td>-28.411065</td>\n",
       "      <td>-61.522861</td>\n",
       "      <td>3.005384</td>\n",
       "      <td>-0.986070</td>\n",
       "      <td>23.010128</td>\n",
       "      <td>26.574740</td>\n",
       "      <td>169.194344</td>\n",
       "      <td>False</td>\n",
       "    </tr>\n",
       "    <tr>\n",
       "      <th>2</th>\n",
       "      <td>-4200.092388</td>\n",
       "      <td>-1871.126468</td>\n",
       "      <td>447.135529</td>\n",
       "      <td>-1006.329809</td>\n",
       "      <td>-462.005764</td>\n",
       "      <td>74.704184</td>\n",
       "      <td>-389.507083</td>\n",
       "      <td>1048.262956</td>\n",
       "      <td>-943.557088</td>\n",
       "      <td>-372.852894</td>\n",
       "      <td>...</td>\n",
       "      <td>-59.611552</td>\n",
       "      <td>25.703768</td>\n",
       "      <td>-294.928181</td>\n",
       "      <td>35.586727</td>\n",
       "      <td>-82.896835</td>\n",
       "      <td>-139.520672</td>\n",
       "      <td>67.240814</td>\n",
       "      <td>130.350498</td>\n",
       "      <td>11.225183</td>\n",
       "      <td>False</td>\n",
       "    </tr>\n",
       "    <tr>\n",
       "      <th>3</th>\n",
       "      <td>-3185.549644</td>\n",
       "      <td>306.772873</td>\n",
       "      <td>433.077977</td>\n",
       "      <td>-210.809758</td>\n",
       "      <td>36.321483</td>\n",
       "      <td>-219.512936</td>\n",
       "      <td>-1054.496076</td>\n",
       "      <td>-410.837075</td>\n",
       "      <td>-1310.575500</td>\n",
       "      <td>-722.056874</td>\n",
       "      <td>...</td>\n",
       "      <td>-81.840073</td>\n",
       "      <td>70.061337</td>\n",
       "      <td>-167.365191</td>\n",
       "      <td>-33.844216</td>\n",
       "      <td>101.946416</td>\n",
       "      <td>-31.338004</td>\n",
       "      <td>-113.008504</td>\n",
       "      <td>19.829202</td>\n",
       "      <td>20.704420</td>\n",
       "      <td>False</td>\n",
       "    </tr>\n",
       "    <tr>\n",
       "      <th>4</th>\n",
       "      <td>4225.769673</td>\n",
       "      <td>2321.933013</td>\n",
       "      <td>340.961107</td>\n",
       "      <td>1458.868017</td>\n",
       "      <td>-149.674140</td>\n",
       "      <td>374.538303</td>\n",
       "      <td>1012.925872</td>\n",
       "      <td>-1814.882862</td>\n",
       "      <td>161.417185</td>\n",
       "      <td>-526.341569</td>\n",
       "      <td>...</td>\n",
       "      <td>65.427990</td>\n",
       "      <td>-65.920148</td>\n",
       "      <td>80.513158</td>\n",
       "      <td>-96.773541</td>\n",
       "      <td>52.067824</td>\n",
       "      <td>-55.347607</td>\n",
       "      <td>-50.855075</td>\n",
       "      <td>-38.701155</td>\n",
       "      <td>261.381070</td>\n",
       "      <td>False</td>\n",
       "    </tr>\n",
       "  </tbody>\n",
       "</table>\n",
       "<p>5 rows × 201 columns</p>\n",
       "</div>"
      ],
      "text/plain": [
       "      feature0     feature1     feature2     feature3    feature4  \\\n",
       "0  -720.579708  -330.571966 -2188.381016  1636.259793  450.914411   \n",
       "1 -5322.933980 -2089.062676  -380.988992  1346.675402 -175.516347   \n",
       "2 -4200.092388 -1871.126468   447.135529 -1006.329809 -462.005764   \n",
       "3 -3185.549644   306.772873   433.077977  -210.809758   36.321483   \n",
       "4  4225.769673  2321.933013   340.961107  1458.868017 -149.674140   \n",
       "\n",
       "      feature5     feature6     feature7     feature8    feature9   ...    \\\n",
       "0  2896.124291   990.411094  -221.979955   735.522150  658.305425   ...     \n",
       "1  -187.304026  -516.713746   299.742812   737.662192  367.725877   ...     \n",
       "2    74.704184  -389.507083  1048.262956  -943.557088 -372.852894   ...     \n",
       "3  -219.512936 -1054.496076  -410.837075 -1310.575500 -722.056874   ...     \n",
       "4   374.538303  1012.925872 -1814.882862   161.417185 -526.341569   ...     \n",
       "\n",
       "   feature191  feature192  feature193  feature194  feature195  feature196  \\\n",
       "0   48.580091   72.751124  140.823452  233.252833 -125.343139  -11.203929   \n",
       "1  -11.319036   51.214428  -28.411065  -61.522861    3.005384   -0.986070   \n",
       "2  -59.611552   25.703768 -294.928181   35.586727  -82.896835 -139.520672   \n",
       "3  -81.840073   70.061337 -167.365191  -33.844216  101.946416  -31.338004   \n",
       "4   65.427990  -65.920148   80.513158  -96.773541   52.067824  -55.347607   \n",
       "\n",
       "   feature197  feature198  feature199  target  \n",
       "0 -298.022503  268.679125 -107.863398   False  \n",
       "1   23.010128   26.574740  169.194344   False  \n",
       "2   67.240814  130.350498   11.225183   False  \n",
       "3 -113.008504   19.829202   20.704420   False  \n",
       "4  -50.855075  -38.701155  261.381070   False  \n",
       "\n",
       "[5 rows x 201 columns]"
      ]
     },
     "execution_count": 5,
     "metadata": {},
     "output_type": "execute_result"
    }
   ],
   "source": [
    "data.head()"
   ]
  },
  {
   "cell_type": "markdown",
   "metadata": {},
   "source": [
    "For convenience, we load the data as a \"pandas\" data frame, so we can use \"pandas\" and \"seaborn\" built in functions to explore the data."
   ]
  },
  {
   "cell_type": "code",
   "execution_count": 6,
   "metadata": {
    "scrolled": false
   },
   "outputs": [
    {
     "data": {
      "text/html": [
       "<div>\n",
       "<style scoped>\n",
       "    .dataframe tbody tr th:only-of-type {\n",
       "        vertical-align: middle;\n",
       "    }\n",
       "\n",
       "    .dataframe tbody tr th {\n",
       "        vertical-align: top;\n",
       "    }\n",
       "\n",
       "    .dataframe thead th {\n",
       "        text-align: right;\n",
       "    }\n",
       "</style>\n",
       "<table border=\"1\" class=\"dataframe\">\n",
       "  <thead>\n",
       "    <tr style=\"text-align: right;\">\n",
       "      <th></th>\n",
       "      <th>feature0</th>\n",
       "      <th>feature1</th>\n",
       "      <th>feature2</th>\n",
       "      <th>feature3</th>\n",
       "      <th>feature4</th>\n",
       "      <th>feature5</th>\n",
       "      <th>feature6</th>\n",
       "      <th>feature7</th>\n",
       "      <th>feature8</th>\n",
       "      <th>feature9</th>\n",
       "      <th>...</th>\n",
       "      <th>feature190</th>\n",
       "      <th>feature191</th>\n",
       "      <th>feature192</th>\n",
       "      <th>feature193</th>\n",
       "      <th>feature194</th>\n",
       "      <th>feature195</th>\n",
       "      <th>feature196</th>\n",
       "      <th>feature197</th>\n",
       "      <th>feature198</th>\n",
       "      <th>feature199</th>\n",
       "    </tr>\n",
       "  </thead>\n",
       "  <tbody>\n",
       "    <tr>\n",
       "      <th>count</th>\n",
       "      <td>65856.000000</td>\n",
       "      <td>65856.000000</td>\n",
       "      <td>65856.000000</td>\n",
       "      <td>65856.000000</td>\n",
       "      <td>65856.000000</td>\n",
       "      <td>65856.000000</td>\n",
       "      <td>65856.000000</td>\n",
       "      <td>65856.000000</td>\n",
       "      <td>65856.000000</td>\n",
       "      <td>65856.000000</td>\n",
       "      <td>...</td>\n",
       "      <td>65856.000000</td>\n",
       "      <td>65856.000000</td>\n",
       "      <td>65856.000000</td>\n",
       "      <td>65856.000000</td>\n",
       "      <td>65856.000000</td>\n",
       "      <td>65856.000000</td>\n",
       "      <td>65856.000000</td>\n",
       "      <td>65856.000000</td>\n",
       "      <td>65856.000000</td>\n",
       "      <td>65856.000000</td>\n",
       "    </tr>\n",
       "    <tr>\n",
       "      <th>mean</th>\n",
       "      <td>7.948228</td>\n",
       "      <td>4.639587</td>\n",
       "      <td>0.060584</td>\n",
       "      <td>0.855769</td>\n",
       "      <td>0.357277</td>\n",
       "      <td>7.274473</td>\n",
       "      <td>-1.869317</td>\n",
       "      <td>-1.103966</td>\n",
       "      <td>-2.037879</td>\n",
       "      <td>-1.444957</td>\n",
       "      <td>...</td>\n",
       "      <td>-0.014606</td>\n",
       "      <td>-0.272984</td>\n",
       "      <td>-0.059105</td>\n",
       "      <td>0.246937</td>\n",
       "      <td>0.403709</td>\n",
       "      <td>0.143219</td>\n",
       "      <td>0.073579</td>\n",
       "      <td>-0.077973</td>\n",
       "      <td>-0.060606</td>\n",
       "      <td>-0.243602</td>\n",
       "    </tr>\n",
       "    <tr>\n",
       "      <th>std</th>\n",
       "      <td>4527.520299</td>\n",
       "      <td>2004.792136</td>\n",
       "      <td>1779.131964</td>\n",
       "      <td>1479.263773</td>\n",
       "      <td>1223.426107</td>\n",
       "      <td>1146.015959</td>\n",
       "      <td>969.066518</td>\n",
       "      <td>895.355556</td>\n",
       "      <td>786.722509</td>\n",
       "      <td>711.069693</td>\n",
       "      <td>...</td>\n",
       "      <td>125.708011</td>\n",
       "      <td>124.573000</td>\n",
       "      <td>124.085856</td>\n",
       "      <td>123.794939</td>\n",
       "      <td>122.868808</td>\n",
       "      <td>121.976787</td>\n",
       "      <td>122.081693</td>\n",
       "      <td>121.612663</td>\n",
       "      <td>120.540781</td>\n",
       "      <td>119.955238</td>\n",
       "    </tr>\n",
       "    <tr>\n",
       "      <th>min</th>\n",
       "      <td>-12742.430972</td>\n",
       "      <td>-9023.211696</td>\n",
       "      <td>-8421.497788</td>\n",
       "      <td>-9367.852309</td>\n",
       "      <td>-7187.540320</td>\n",
       "      <td>-6688.845174</td>\n",
       "      <td>-5695.292683</td>\n",
       "      <td>-5531.296531</td>\n",
       "      <td>-5411.785285</td>\n",
       "      <td>-4643.432207</td>\n",
       "      <td>...</td>\n",
       "      <td>-773.122053</td>\n",
       "      <td>-1027.098089</td>\n",
       "      <td>-1032.805878</td>\n",
       "      <td>-809.367433</td>\n",
       "      <td>-994.457441</td>\n",
       "      <td>-772.500641</td>\n",
       "      <td>-907.994302</td>\n",
       "      <td>-733.719626</td>\n",
       "      <td>-710.527240</td>\n",
       "      <td>-821.714025</td>\n",
       "    </tr>\n",
       "    <tr>\n",
       "      <th>25%</th>\n",
       "      <td>-3274.891219</td>\n",
       "      <td>-1177.313799</td>\n",
       "      <td>-1102.805327</td>\n",
       "      <td>-807.709460</td>\n",
       "      <td>-680.398415</td>\n",
       "      <td>-682.350395</td>\n",
       "      <td>-585.396431</td>\n",
       "      <td>-534.121973</td>\n",
       "      <td>-434.339013</td>\n",
       "      <td>-412.187668</td>\n",
       "      <td>...</td>\n",
       "      <td>-73.133615</td>\n",
       "      <td>-73.276018</td>\n",
       "      <td>-73.564071</td>\n",
       "      <td>-73.897173</td>\n",
       "      <td>-73.313577</td>\n",
       "      <td>-71.965030</td>\n",
       "      <td>-72.125558</td>\n",
       "      <td>-72.216912</td>\n",
       "      <td>-70.905623</td>\n",
       "      <td>-71.805017</td>\n",
       "    </tr>\n",
       "    <tr>\n",
       "      <th>50%</th>\n",
       "      <td>-195.286039</td>\n",
       "      <td>129.786316</td>\n",
       "      <td>-103.967754</td>\n",
       "      <td>146.154493</td>\n",
       "      <td>-3.505489</td>\n",
       "      <td>-18.044559</td>\n",
       "      <td>-55.113862</td>\n",
       "      <td>16.804429</td>\n",
       "      <td>-7.350562</td>\n",
       "      <td>6.081740</td>\n",
       "      <td>...</td>\n",
       "      <td>1.444448</td>\n",
       "      <td>1.216627</td>\n",
       "      <td>-0.868476</td>\n",
       "      <td>-0.641931</td>\n",
       "      <td>-0.213107</td>\n",
       "      <td>0.625010</td>\n",
       "      <td>-1.533394</td>\n",
       "      <td>-0.130634</td>\n",
       "      <td>0.410809</td>\n",
       "      <td>0.289759</td>\n",
       "    </tr>\n",
       "    <tr>\n",
       "      <th>75%</th>\n",
       "      <td>3083.881246</td>\n",
       "      <td>1257.955175</td>\n",
       "      <td>952.530743</td>\n",
       "      <td>952.914092</td>\n",
       "      <td>671.960261</td>\n",
       "      <td>682.672999</td>\n",
       "      <td>530.041801</td>\n",
       "      <td>541.486421</td>\n",
       "      <td>428.102311</td>\n",
       "      <td>411.366246</td>\n",
       "      <td>...</td>\n",
       "      <td>73.798601</td>\n",
       "      <td>72.928751</td>\n",
       "      <td>72.739949</td>\n",
       "      <td>73.366181</td>\n",
       "      <td>73.679866</td>\n",
       "      <td>72.218836</td>\n",
       "      <td>71.430684</td>\n",
       "      <td>72.728981</td>\n",
       "      <td>71.713926</td>\n",
       "      <td>71.651149</td>\n",
       "    </tr>\n",
       "    <tr>\n",
       "      <th>max</th>\n",
       "      <td>15055.474982</td>\n",
       "      <td>10698.120915</td>\n",
       "      <td>9554.132261</td>\n",
       "      <td>11444.055706</td>\n",
       "      <td>8174.589084</td>\n",
       "      <td>6336.943285</td>\n",
       "      <td>7427.424157</td>\n",
       "      <td>5547.592429</td>\n",
       "      <td>6218.223714</td>\n",
       "      <td>5376.299435</td>\n",
       "      <td>...</td>\n",
       "      <td>796.276702</td>\n",
       "      <td>1421.298186</td>\n",
       "      <td>744.646970</td>\n",
       "      <td>901.421396</td>\n",
       "      <td>1017.062212</td>\n",
       "      <td>882.567186</td>\n",
       "      <td>1289.488162</td>\n",
       "      <td>809.657357</td>\n",
       "      <td>833.619205</td>\n",
       "      <td>827.775638</td>\n",
       "    </tr>\n",
       "  </tbody>\n",
       "</table>\n",
       "<p>8 rows × 200 columns</p>\n",
       "</div>"
      ],
      "text/plain": [
       "           feature0      feature1      feature2      feature3      feature4  \\\n",
       "count  65856.000000  65856.000000  65856.000000  65856.000000  65856.000000   \n",
       "mean       7.948228      4.639587      0.060584      0.855769      0.357277   \n",
       "std     4527.520299   2004.792136   1779.131964   1479.263773   1223.426107   \n",
       "min   -12742.430972  -9023.211696  -8421.497788  -9367.852309  -7187.540320   \n",
       "25%    -3274.891219  -1177.313799  -1102.805327   -807.709460   -680.398415   \n",
       "50%     -195.286039    129.786316   -103.967754    146.154493     -3.505489   \n",
       "75%     3083.881246   1257.955175    952.530743    952.914092    671.960261   \n",
       "max    15055.474982  10698.120915   9554.132261  11444.055706   8174.589084   \n",
       "\n",
       "           feature5      feature6      feature7      feature8      feature9  \\\n",
       "count  65856.000000  65856.000000  65856.000000  65856.000000  65856.000000   \n",
       "mean       7.274473     -1.869317     -1.103966     -2.037879     -1.444957   \n",
       "std     1146.015959    969.066518    895.355556    786.722509    711.069693   \n",
       "min    -6688.845174  -5695.292683  -5531.296531  -5411.785285  -4643.432207   \n",
       "25%     -682.350395   -585.396431   -534.121973   -434.339013   -412.187668   \n",
       "50%      -18.044559    -55.113862     16.804429     -7.350562      6.081740   \n",
       "75%      682.672999    530.041801    541.486421    428.102311    411.366246   \n",
       "max     6336.943285   7427.424157   5547.592429   6218.223714   5376.299435   \n",
       "\n",
       "           ...         feature190    feature191    feature192    feature193  \\\n",
       "count      ...       65856.000000  65856.000000  65856.000000  65856.000000   \n",
       "mean       ...          -0.014606     -0.272984     -0.059105      0.246937   \n",
       "std        ...         125.708011    124.573000    124.085856    123.794939   \n",
       "min        ...        -773.122053  -1027.098089  -1032.805878   -809.367433   \n",
       "25%        ...         -73.133615    -73.276018    -73.564071    -73.897173   \n",
       "50%        ...           1.444448      1.216627     -0.868476     -0.641931   \n",
       "75%        ...          73.798601     72.928751     72.739949     73.366181   \n",
       "max        ...         796.276702   1421.298186    744.646970    901.421396   \n",
       "\n",
       "         feature194    feature195    feature196    feature197    feature198  \\\n",
       "count  65856.000000  65856.000000  65856.000000  65856.000000  65856.000000   \n",
       "mean       0.403709      0.143219      0.073579     -0.077973     -0.060606   \n",
       "std      122.868808    121.976787    122.081693    121.612663    120.540781   \n",
       "min     -994.457441   -772.500641   -907.994302   -733.719626   -710.527240   \n",
       "25%      -73.313577    -71.965030    -72.125558    -72.216912    -70.905623   \n",
       "50%       -0.213107      0.625010     -1.533394     -0.130634      0.410809   \n",
       "75%       73.679866     72.218836     71.430684     72.728981     71.713926   \n",
       "max     1017.062212    882.567186   1289.488162    809.657357    833.619205   \n",
       "\n",
       "         feature199  \n",
       "count  65856.000000  \n",
       "mean      -0.243602  \n",
       "std      119.955238  \n",
       "min     -821.714025  \n",
       "25%      -71.805017  \n",
       "50%        0.289759  \n",
       "75%       71.651149  \n",
       "max      827.775638  \n",
       "\n",
       "[8 rows x 200 columns]"
      ]
     },
     "execution_count": 6,
     "metadata": {},
     "output_type": "execute_result"
    }
   ],
   "source": [
    "data.describe() "
   ]
  },
  {
   "cell_type": "markdown",
   "metadata": {},
   "source": [
    "<div style=\"background:#FFFFAA\">\n",
    "<h1>Step 2: Building a predictive model</h1>\n",
    "</div>"
   ]
  },
  {
   "cell_type": "markdown",
   "metadata": {},
   "source": [
    "<div style=\"background:#FFFFAA\">\n",
    "    <h2>Loading data with DataManager</h2>\n",
    "    <p>\n",
    "We reload the data with the AutoML DataManager class because this is more convenient:\n",
    "  \n",
    "</div>"
   ]
  },
  {
   "cell_type": "code",
   "execution_count": 7,
   "metadata": {
    "scrolled": true
   },
   "outputs": [
    {
     "name": "stdout",
     "output_type": "stream",
     "text": [
      "Info file found : /home/tp-home009/rcesist/projects/picasso/public_data/perso_public.info\n",
      "DataManager : perso\n",
      "info:\n",
      "\tusage = Sample dataset perso data\n",
      "\tname = perso\n",
      "\ttask = bi-class.classification\n",
      "\ttarget_type = Numerical\n",
      "\tfeat_type = Numerical\n",
      "\tmetric = bac_metric\n",
      "\ttime_budget = 1200\n",
      "\tfeat_num = 200\n",
      "\ttarget_num = 2\n",
      "\tlabel_num = 2\n",
      "\ttrain_num = 65856\n",
      "\tvalid_num = 9408\n",
      "\ttest_num = 18817\n",
      "\thas_categorical = 0\n",
      "\thas_missing = 0\n",
      "\tis_sparse = 0\n",
      "\tformat = dense\n",
      "data:\n",
      "\tX_train = array(65856, 200)\n",
      "\tY_train = array(65856,)\n",
      "\tX_valid = array(9408, 200)\n",
      "\tY_valid = array(0,)\n",
      "\tX_test = array(18817, 200)\n",
      "\tY_test = array(0,)\n",
      "feat_type:\tarray(200,)\n",
      "feat_idx:\tarray(0,)\n",
      "\n",
      "perso\n"
     ]
    }
   ],
   "source": [
    "from data_manager import DataManager\n",
    "D = DataManager(data_name, data_dir, replace_missing=True)\n",
    "print(D)\n",
    "print(data_name)"
   ]
  },
  {
   "cell_type": "markdown",
   "metadata": {},
   "source": [
    "<div style=\"background:#FFFFAA\">\n",
    "    <h2>Training a predictive model</h2>\n",
    "    <p>\n",
    "We provide an example of predictive model (for classification or regression) in the `sample_code_submission/` directory. It is a quite stupid model: it makes constant predictions. Replace it with your own model.\n",
    "    </div>"
   ]
  },
  {
   "cell_type": "code",
   "execution_count": 8,
   "metadata": {
    "scrolled": false
   },
   "outputs": [
    {
     "name": "stderr",
     "output_type": "stream",
     "text": [
      "/opt/anaconda3/lib/python3.7/site-packages/ipykernel_launcher.py:1: DeprecationWarning: numpy.core.umath_tests is an internal NumPy module and should not be imported. It will be removed in a future NumPy release.\n",
      "  \"\"\"Entry point for launching an IPython kernel.\n"
     ]
    }
   ],
   "source": [
    "from numpy.core.umath_tests import inner1d\n",
    "from data_io import write\n",
    "from model import model\n"
   ]
  },
  {
   "cell_type": "markdown",
   "metadata": {},
   "source": [
    "<div style=\"background:#FFFFAA\">\n",
    "an instance of the model (run the constructor) and attempt to reload a previously saved version from `sample_code_submission/`:\n",
    "    \n",
    "</div>"
   ]
  },
  {
   "cell_type": "code",
   "execution_count": 9,
   "metadata": {
    "scrolled": true
   },
   "outputs": [
    {
     "name": "stdout",
     "output_type": "stream",
     "text": [
      "perso\n",
      "sample_code_submission/\n",
      "sample_code_submission/perso\n"
     ]
    }
   ],
   "source": [
    "M = model()\n",
    "trained_model_name = model_dir + data_name\n",
    "print(data_name)\n",
    "print(model_dir)\n",
    "print(trained_model_name)"
   ]
  },
  {
   "cell_type": "markdown",
   "metadata": {},
   "source": [
    "<div style=\"background:#FFFFAA\">\n",
    "    Train the model (unless you reloaded a trained model) and make predictions. \n",
    "</div>"
   ]
  },
  {
   "cell_type": "code",
   "execution_count": 10,
   "metadata": {},
   "outputs": [
    {
     "name": "stdout",
     "output_type": "stream",
     "text": [
      "FIT: dim(X)= [65856, 200]\n",
      "FIT: dim(y)= [65856, 1]\n",
      "PREDICT: dim(X)= [65856, 200]\n",
      "PREDICT: dim(y)= [65856, 1]\n",
      "PREDICT: dim(X)= [9408, 200]\n",
      "PREDICT: dim(y)= [9408, 1]\n",
      "PREDICT: dim(X)= [18817, 200]\n",
      "PREDICT: dim(y)= [18817, 1]\n"
     ]
    }
   ],
   "source": [
    "if not(M.is_trained):\n",
    "    X_train = D.data['X_train']\n",
    "    Y_train = D.data['Y_train']\n",
    "    M.fit(X_train, Y_train)                     \n",
    "\n",
    "Y_hat_train = M.predict(D.data['X_train'])\n",
    "Y_hat_valid = M.predict(D.data['X_valid'])\n",
    "Y_hat_test = M.predict(D.data['X_test'])\n",
    "if(os.path.exists(\"sample_data/perso_test.solution\") and os.path.exists(\"sample_data/perso_valid.solution\")) : \n",
    "    Y_test = D.data['Y_test']\n",
    "    Y_valid = D.data['Y_valid']"
   ]
  },
  {
   "cell_type": "markdown",
   "metadata": {},
   "source": [
    "<div style=\"background:#FFFFAA\">\n",
    "    <b> Save the trained model </b> (will be ready to reload next time around) and save the prediction results. IMPORTANT: if you save the trained model, it will be bundled with your sample code submission. Therefore your model will NOT be retrained on the challenge platform. Remove the pickle from the submission if you want the model to be retrained on the platform.\n",
    "</div>"
   ]
  },
  {
   "cell_type": "code",
   "execution_count": 11,
   "metadata": {
    "scrolled": true
   },
   "outputs": [
    {
     "name": "stdout",
     "output_type": "stream",
     "text": [
      "sample_result_submission/perso_test.predict\r\n",
      "sample_result_submission/perso_train.predict\r\n",
      "sample_result_submission/perso_valid.predict\r\n"
     ]
    }
   ],
   "source": [
    "M.save(trained_model_name)                 \n",
    "result_name = result_dir + data_name\n",
    "from data_io import write\n",
    "write(result_name + '_train.predict', Y_hat_train)\n",
    "write(result_name + '_valid.predict', Y_hat_valid)\n",
    "write(result_name + '_test.predict', Y_hat_test)\n",
    "!ls $result_name*"
   ]
  },
  {
   "cell_type": "code",
   "execution_count": 12,
   "metadata": {},
   "outputs": [
    {
     "name": "stdout",
     "output_type": "stream",
     "text": [
      "65856\n"
     ]
    }
   ],
   "source": [
    "print(len(Y_hat_train))"
   ]
  },
  {
   "cell_type": "markdown",
   "metadata": {},
   "source": [
    "<div style=\"background:#FFFFAA\">\n",
    "    <h2>Scoring the results</h2>\n",
    "    <h3>Load the challenge metric</h3>\n",
    "</div>"
   ]
  },
  {
   "cell_type": "markdown",
   "metadata": {},
   "source": [
    "#### Metric : AUC_metric \n",
    "ROC curves are typically used in binary classification to study the output of a classifier"
   ]
  },
  {
   "cell_type": "code",
   "execution_count": 13,
   "metadata": {},
   "outputs": [
    {
     "name": "stdout",
     "output_type": "stream",
     "text": [
      "Using scoring metric: roc_auc_score\n"
     ]
    }
   ],
   "source": [
    "from libscores import get_metric\n",
    "metric_name, scoring_function = get_metric()\n",
    "print('Using scoring metric:', metric_name)"
   ]
  },
  {
   "cell_type": "markdown",
   "metadata": {},
   "source": [
    "<div style=\"background:#FFFFAA\">\n",
    "    <h3> Training performance </h3>\n",
    "    <p>\n",
    "The participants normally posess target values (labels) only for training examples (except for the sample data). We compute with the `example` metric the training score, which should be zero for perfect predictions.\n",
    "        </div>"
   ]
  },
  {
   "cell_type": "code",
   "execution_count": 14,
   "metadata": {
    "scrolled": true
   },
   "outputs": [
    {
     "name": "stdout",
     "output_type": "stream",
     "text": [
      "Training score for the roc_auc_score metric = 0.8416\n",
      "Ideal score for the roc_auc_score metric = 1.0000\n"
     ]
    },
    {
     "data": {
      "image/png": "[encoded data removed]",
      "text/plain": [
       "<Figure size 360x216 with 2 Axes>"
      ]
     },
     "metadata": {
      "needs_background": "light"
     },
     "output_type": "display_data"
    },
    {
     "data": {
      "image/png": "[encoded data removed]",
      "text/plain": [
       "<Figure size 432x288 with 1 Axes>"
      ]
     },
     "metadata": {
      "needs_background": "light"
     },
     "output_type": "display_data"
    }
   ],
   "source": [
    "from sklearn import metrics\n",
    "from sklearn.metrics import confusion_matrix\n",
    "import seaborn as sn\n",
    "import matplotlib.pyplot as plt\n",
    "import numpy as np\n",
    "import pandas as pd\n",
    "n_classes=2\n",
    "def fpr_tpr(solution, prediction):\n",
    "    for i in range(n_classes):\n",
    "        fpr, tpr, _ = metrics.roc_curve(solution, prediction)\n",
    "        roc_auc = metrics.auc(fpr, tpr)\n",
    "    return (fpr,tpr)\n",
    "def p2c(prediction,threshold=0.5) : \n",
    "    c = []\n",
    "    for ele in prediction : \n",
    "        if(ele>=0.5) : \n",
    "            c.append(1)\n",
    "        else : \n",
    "            c.append(0)\n",
    "    return np.array(c)\n",
    "\n",
    "def plot_cm_matrix(solution,prediction,title) :\n",
    "    prediction = p2c(prediction)\n",
    "    cm = confusion_matrix(solution, prediction)\n",
    "    df_cm = pd.DataFrame(cm, index = [i for i in \"01\"],columns = [i for i in \"01\"])\n",
    "    plt.figure(figsize = (5,3))\n",
    "    sn.heatmap(df_cm, annot=True)\n",
    "    plt.title(title)\n",
    "\n",
    "def plot_ROC(fpr,tpr,title) :\n",
    "    plt.figure()\n",
    "    lw = 2\n",
    "    plt.plot(fpr, tpr, color='darkorange',lw=lw)\n",
    "    plt.plot([0, 1], [0, 1], color='navy', lw=lw, linestyle='--')\n",
    "    plt.xlim([0.0, 1.0])\n",
    "    plt.ylim([0.0, 1.05])\n",
    "    plt.xlabel('False Positive Rate')\n",
    "    plt.ylabel('True Positive Rate')\n",
    "    plt.title(title)\n",
    "    plt.show()\n",
    "    \n",
    "fpr_train,tpr_train = fpr_tpr(Y_train, Y_hat_train)    \n",
    "print('Training score for the', metric_name, 'metric = %5.4f' % scoring_function(Y_train, Y_hat_train))\n",
    "print('Ideal score for the', metric_name, 'metric = %5.4f' % scoring_function(Y_train, Y_train))\n",
    "plot_cm_matrix(Y_train,Y_hat_train,\"Confusion matrix for train data\") \n",
    "plot_ROC(fpr_train,tpr_train,\"ROC curve for train data\")\n",
    "\n",
    "if False: #(os.path.exists(\"sample_data/perso_test.solution\") and os.path.exists(\"sample_data/perso_valid.solution\")) : \n",
    "    fpr_train,tpr_train = fpr_tpr(Y_train, Y_hat_train)\n",
    "    fpr_test,tpr_test = fpr_tpr(Y_test, Y_hat_test)\n",
    "    fpr_valid,tpr_valid = fpr_tpr(Y_valid, Y_hat_valid)\n",
    "\n",
    "    print('Training score for the', metric_name, 'metric = %5.4f' % scoring_function(Y_train, Y_hat_train))\n",
    "    print('Ideal score for the', metric_name, 'metric = %5.4f' % scoring_function(Y_train, Y_train))\n",
    "    print('Test score for the', metric_name, 'metric = %5.4f' % scoring_function(Y_test, Y_hat_test))\n",
    "    print('Valid score for the', metric_name, 'metric = %5.4f' % scoring_function(Y_valid, Y_hat_valid))\n",
    "\n",
    "    plot_cm_matrix(Y_train,Y_hat_train,\"Confusion matrix for train data\") \n",
    "    plot_ROC(fpr_train,tpr_train,\"ROC curve for train data\")\n",
    "    plot_cm_matrix(Y_test,Y_hat_test,\"Confusion matrix for test data\") \n",
    "    plot_ROC(fpr_test,tpr_test,\"ROC curve for test data\")\n",
    "    plot_cm_matrix(Y_valid,Y_hat_valid,\"Confusion matrix for valid data\") \n",
    "    plot_ROC(fpr_valid,tpr_valid,\"ROC curve for valid data\")"
   ]
  },
  {
   "cell_type": "markdown",
   "metadata": {},
   "source": [
    "<div style=\"background:#FFFFAA\">\n",
    "    <h3>Cross-validation performance</h3>\n",
    "    <p>\n",
    "The participants do not have access to the labels Y_valid and Y_test to self-assess their validation and test performances. But training performance is not a good prediction of validation or test performance. Using cross-validation, the training data is split into multiple training/test folds, which allows participants to self-assess their model during development. The average CV result and 95% confidence interval is displayed.\n",
    "   </div>"
   ]
  },
  {
   "cell_type": "code",
   "execution_count": 15,
   "metadata": {
    "scrolled": true
   },
   "outputs": [
    {
     "name": "stdout",
     "output_type": "stream",
     "text": [
      "FIT: dim(X)= [52684, 200]\n",
      "FIT: dim(y)= [52684, 1]\n",
      "PREDICT: dim(X)= [13172, 200]\n",
      "PREDICT: dim(y)= [13172, 1]\n",
      "FIT: dim(X)= [52685, 200]\n",
      "FIT: dim(y)= [52685, 1]\n",
      "PREDICT: dim(X)= [13171, 200]\n",
      "PREDICT: dim(y)= [13171, 1]\n",
      "FIT: dim(X)= [52685, 200]\n",
      "FIT: dim(y)= [52685, 1]\n",
      "PREDICT: dim(X)= [13171, 200]\n",
      "PREDICT: dim(y)= [13171, 1]\n",
      "FIT: dim(X)= [52685, 200]\n",
      "FIT: dim(y)= [52685, 1]\n",
      "PREDICT: dim(X)= [13171, 200]\n",
      "PREDICT: dim(y)= [13171, 1]\n",
      "FIT: dim(X)= [52685, 200]\n",
      "FIT: dim(y)= [52685, 1]\n",
      "PREDICT: dim(X)= [13171, 200]\n",
      "PREDICT: dim(y)= [13171, 1]\n",
      "\n",
      "CV score (95 perc. CI): 0.80 (+/- 0.01)\n"
     ]
    }
   ],
   "source": [
    "from sklearn.metrics import make_scorer\n",
    "from sklearn.model_selection import cross_val_score\n",
    "scores = cross_val_score(M, X_train, Y_train, cv=5, scoring=make_scorer(scoring_function))\n",
    "print('\\nCV score (95 perc. CI): %0.2f (+/- %0.2f)' % (scores.mean(), scores.std() * 2))"
   ]
  },
  {
   "cell_type": "markdown",
   "metadata": {},
   "source": [
    "<div style=\"background:#FFFFAA\">\n",
    "<h1> Step 3: Making a submission </h1> \n",
    "\n",
    "<h2> Unit testing </h2> \n",
    "\n",
    "It is <b><span style=\"color:red\">important that you test your submission files before submitting them</span></b>. All you have to do to make a submission is modify the file <code>model.py</code> in the <code>sample_code_submission/</code> directory, then run this test to make sure everything works fine. This is the actual program that will be run on the server to test your submission. \n",
    "<br>\n",
    "Keep the sample code simple.\n",
    "</div>"
   ]
  },
  {
   "cell_type": "code",
   "execution_count": 16,
   "metadata": {
    "scrolled": true
   },
   "outputs": [
    {
     "name": "stdout",
     "output_type": "stream",
     "text": [
      "Using input_dir: /home/tp-home009/rcesist/projects/picasso/public_data\n",
      "Using output_dir: /home/tp-home009/rcesist/projects/picasso/starting_kit/sample_result_submission\n",
      "Using program_dir: /home/tp-home009/rcesist/projects/picasso/starting_kit/ingestion_program\n",
      "Using submission_dir: /home/tp-home009/rcesist/projects/picasso/starting_kit/sample_code_submission\n",
      "\n",
      "========== Ingestion program version 6 ==========\n",
      "\n",
      "************************************************\n",
      "******** Processing dataset Perso ********\n",
      "************************************************\n",
      "========= Reading and converting data ==========\n",
      "Info file found : /home/tp-home009/rcesist/projects/picasso/public_data/perso_public.info\n",
      "========= Reading /home/tp-home009/rcesist/projects/picasso/public_data/perso_feat.type\n",
      "[+] Success in  0.00 sec\n",
      "========= Reading /home/tp-home009/rcesist/projects/picasso/public_data/perso_train.data\n",
      "Replace missing values by 0 (slow, sorry)\n",
      "[+] Success in  3.76 sec\n",
      "========= Reading /home/tp-home009/rcesist/projects/picasso/public_data/perso_train.solution\n",
      "[+] Success in  0.10 sec\n",
      "========= Reading /home/tp-home009/rcesist/projects/picasso/public_data/perso_valid.data\n",
      "Replace missing values by 0 (slow, sorry)\n",
      "[+] Success in  0.51 sec\n",
      "========= Reading /home/tp-home009/rcesist/projects/picasso/public_data/perso_valid.solution\n",
      "[+] Success in  0.00 sec\n",
      "========= Reading /home/tp-home009/rcesist/projects/picasso/public_data/perso_test.data\n",
      "Replace missing values by 0 (slow, sorry)\n",
      "[+] Success in  1.05 sec\n",
      "========= Reading /home/tp-home009/rcesist/projects/picasso/public_data/perso_test.solution\n",
      "[+] Success in  0.00 sec\n",
      "DataManager : perso\n",
      "info:\n",
      "\tusage = Sample dataset perso data\n",
      "\tname = perso\n",
      "\ttask = bi-class.classification\n",
      "\ttarget_type = Numerical\n",
      "\tfeat_type = Numerical\n",
      "\tmetric = bac_metric\n",
      "\ttime_budget = 1200\n",
      "\tfeat_num = 200\n",
      "\ttarget_num = 2\n",
      "\tlabel_num = 2\n",
      "\ttrain_num = 65856\n",
      "\tvalid_num = 9408\n",
      "\ttest_num = 18817\n",
      "\thas_categorical = 0\n",
      "\thas_missing = 0\n",
      "\tis_sparse = 0\n",
      "\tformat = dense\n",
      "data:\n",
      "\tX_train = array(65856, 200)\n",
      "\tY_train = array(65856,)\n",
      "\tX_valid = array(9408, 200)\n",
      "\tY_valid = array(0,)\n",
      "\tX_test = array(18817, 200)\n",
      "\tY_test = array(0,)\n",
      "feat_type:\tarray(200,)\n",
      "feat_idx:\tarray(200,)\n",
      "\n",
      "[+] Size of uploaded data  56.00 bytes\n",
      "[+] Cumulated time budget (all tasks so far)  1200.00 sec\n",
      "[+] Time budget for this task 1200.00 sec\n",
      "[+] Remaining time after reading data 1194.46 sec\n",
      "======== Creating model ==========\n",
      "**********************************************************\n",
      "****** Attempting to reload model to avoid training ******\n",
      "**********************************************************\n",
      "Model reloaded from: /home/tp-home009/rcesist/projects/picasso/starting_kit/sample_code_submission/perso_model.pickle\n",
      "[+] Model reloaded, no need to train!\n",
      "[+] Prediction success, time spent so far  5.89 sec\n",
      "======== Saving results to: /home/tp-home009/rcesist/projects/picasso/starting_kit/sample_result_submission\n",
      "[+] Results saved, time spent so far  6.04 sec\n",
      "[+] End cycle, time left 1193.96 sec\n",
      "[+] Done\n",
      "[+] Overall time spent  6.76 sec ::  Overall time budget 1200.00 sec\n"
     ]
    }
   ],
   "source": [
    "!python $problem_dir/ingestion.py $data_dir $result_dir $problem_dir $model_dir"
   ]
  },
  {
   "cell_type": "markdown",
   "metadata": {},
   "source": [
    "<div style=\"background:#FFFFAA\">\n",
    "Also test the scoring program:\n",
    "    </div>"
   ]
  },
  {
   "cell_type": "code",
   "execution_count": 17,
   "metadata": {},
   "outputs": [
    {
     "name": "stdout",
     "output_type": "stream",
     "text": [
      "======= Set 1 (Perso_train): roc_auc_score(set1_score)=0.761496770740 =======\r\n"
     ]
    }
   ],
   "source": [
    "scoring_output_dir = '../scoring_output_dir'\n",
    "!python $score_dir/score.py $data_dir $result_dir $scoring_output_dir"
   ]
  },
  {
   "cell_type": "markdown",
   "metadata": {
    "collapsed": true
   },
   "source": [
    "<div style=\"background:#FFFFAA\">\n",
    "    <h1> Preparing the submission </h1>\n",
    "\n",
    "Zip the contents of `sample_code_submission/` (without the directory), or download the challenge public_data and run the command in the previous cell, after replacing sample_data by public_data.\n",
    "Then zip the contents of `sample_result_submission/` (without the directory).\n",
    "<b><span style=\"color:red\">Do NOT zip the data with your submissions</span></b>."
   ]
  },
  {
   "cell_type": "code",
   "execution_count": 18,
   "metadata": {},
   "outputs": [
    {
     "name": "stdout",
     "output_type": "stream",
     "text": [
      "Submit one of these files:\n",
      "sample_code_submission_19-02-28-13-38.zip\n",
      "sample_result_submission_19-02-28-13-38.zip\n"
     ]
    }
   ],
   "source": [
    "import datetime \n",
    "from data_io import zipdir\n",
    "the_date = datetime.datetime.now().strftime(\"%y-%m-%d-%H-%M\")\n",
    "sample_code_submission = 'sample_code_submission_' + the_date + '.zip'\n",
    "sample_result_submission = 'sample_result_submission_' + the_date + '.zip'\n",
    "zipdir(sample_code_submission, model_dir)\n",
    "zipdir(sample_result_submission, result_dir)\n",
    "print(\"Submit one of these files:\\n\" + sample_code_submission + \"\\n\" + sample_result_submission)"
   ]
  }
 ],
 "metadata": {
  "kernelspec": {
   "display_name": "Python 3",
   "language": "python",
   "name": "python3"
  },
  "language_info": {
   "codemirror_mode": {
    "name": "ipython",
    "version": 3
   },
   "file_extension": ".py",
   "mimetype": "text/x-python",
   "name": "python",
   "nbconvert_exporter": "python",
   "pygments_lexer": "ipython3",
   "version": "3.7.1"
  }
 },
 "nbformat": 4,
 "nbformat_minor": 1
}
